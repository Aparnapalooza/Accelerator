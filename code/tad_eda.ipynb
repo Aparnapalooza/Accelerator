{
 "cells": [
  {
   "cell_type": "code",
   "execution_count": 1,
   "metadata": {},
   "outputs": [],
   "source": [
    "import pandas as pd\n",
    "import os\n",
    "import matplotlib.pyplot as plt"
   ]
  },
  {
   "cell_type": "markdown",
   "metadata": {},
   "source": [
    "[list comprehension](https://www.w3schools.com/python/python_lists_comprehension.asp)"
   ]
  },
  {
   "cell_type": "code",
   "execution_count": 2,
   "metadata": {},
   "outputs": [],
   "source": [
    "# read the data\n",
    "input_dir = '/Users/junheyang/Desktop/working_docs/Accelerator/data/Output/Reddit'\n",
    "\n",
    "all_files = pd.concat([\n",
    "    pd.read_csv(os.path.join(input_dir, file))\n",
    "    for file in os.listdir(input_dir)\n",
    "    if file.endswith('.csv')\n",
    "])\n",
    "\n",
    "# equivalent\n",
    "# csv_files = []\n",
    "# for file in os.listdir(input_dir):\n",
    "#     if file.endswith('.csv'):\n",
    "#         file_path = os.path.join(input_dir, file)\n",
    "#         df = pd.read_csv(file_path)\n",
    "#         csv_files.append(df)\n",
    "# all_files = pd.concat(csv_files)\n",
    "\n",
    "# save the data\n",
    "#all_files.to_csv('/Users/junheyang/Desktop/working_docs/Accelerator/data/Output/Reddit/all_files.csv', index=False)\n"
   ]
  },
  {
   "cell_type": "code",
   "execution_count": 3,
   "metadata": {},
   "outputs": [
    {
     "data": {
      "text/html": [
       "<div>\n",
       "<style scoped>\n",
       "    .dataframe tbody tr th:only-of-type {\n",
       "        vertical-align: middle;\n",
       "    }\n",
       "\n",
       "    .dataframe tbody tr th {\n",
       "        vertical-align: top;\n",
       "    }\n",
       "\n",
       "    .dataframe thead th {\n",
       "        text-align: right;\n",
       "    }\n",
       "</style>\n",
       "<table border=\"1\" class=\"dataframe\">\n",
       "  <thead>\n",
       "    <tr style=\"text-align: right;\">\n",
       "      <th></th>\n",
       "      <th>id_submission</th>\n",
       "      <th>name</th>\n",
       "      <th>created_utc_submission</th>\n",
       "      <th>title</th>\n",
       "      <th>selftext</th>\n",
       "      <th>subreddit_submission</th>\n",
       "      <th>id_comment</th>\n",
       "      <th>subreddit_comment</th>\n",
       "      <th>created_utc_comment</th>\n",
       "      <th>body</th>\n",
       "      <th>link_id</th>\n",
       "      <th>parent_id</th>\n",
       "    </tr>\n",
       "  </thead>\n",
       "  <tbody>\n",
       "    <tr>\n",
       "      <th>0</th>\n",
       "      <td>3574mw</td>\n",
       "      <td>t3_3574mw</td>\n",
       "      <td>2015-05-07 17:38:28</td>\n",
       "      <td>Essure this afternoon (x-post to childfree)</td>\n",
       "      <td>I'll be heading to the hospital in 3 hours to ...</td>\n",
       "      <td>truechildfree</td>\n",
       "      <td>cr1n0gz</td>\n",
       "      <td>truechildfree</td>\n",
       "      <td>2015-05-07 18:13:18</td>\n",
       "      <td>You can do it! Just please make sure to take y...</td>\n",
       "      <td>t3_3574mw</td>\n",
       "      <td>t3_3574mw</td>\n",
       "    </tr>\n",
       "    <tr>\n",
       "      <th>1</th>\n",
       "      <td>3574mw</td>\n",
       "      <td>t3_3574mw</td>\n",
       "      <td>2015-05-07 17:38:28</td>\n",
       "      <td>Essure this afternoon (x-post to childfree)</td>\n",
       "      <td>I'll be heading to the hospital in 3 hours to ...</td>\n",
       "      <td>truechildfree</td>\n",
       "      <td>cr21ui2</td>\n",
       "      <td>truechildfree</td>\n",
       "      <td>2015-05-08 00:57:56</td>\n",
       "      <td>Awesome, I'm a bit jealous!</td>\n",
       "      <td>t3_3574mw</td>\n",
       "      <td>t3_3574mw</td>\n",
       "    </tr>\n",
       "    <tr>\n",
       "      <th>2</th>\n",
       "      <td>3574mw</td>\n",
       "      <td>t3_3574mw</td>\n",
       "      <td>2015-05-07 17:38:28</td>\n",
       "      <td>Essure this afternoon (x-post to childfree)</td>\n",
       "      <td>I'll be heading to the hospital in 3 hours to ...</td>\n",
       "      <td>truechildfree</td>\n",
       "      <td>cr21vda</td>\n",
       "      <td>truechildfree</td>\n",
       "      <td>2015-05-08 00:58:40</td>\n",
       "      <td>Curious, OP said they would be under for the p...</td>\n",
       "      <td>t3_3574mw</td>\n",
       "      <td>t1_cr1n0gz</td>\n",
       "    </tr>\n",
       "    <tr>\n",
       "      <th>3</th>\n",
       "      <td>3574mw</td>\n",
       "      <td>t3_3574mw</td>\n",
       "      <td>2015-05-07 17:38:28</td>\n",
       "      <td>Essure this afternoon (x-post to childfree)</td>\n",
       "      <td>I'll be heading to the hospital in 3 hours to ...</td>\n",
       "      <td>truechildfree</td>\n",
       "      <td>cr2bxcr</td>\n",
       "      <td>truechildfree</td>\n",
       "      <td>2015-05-08 07:26:37</td>\n",
       "      <td>Oh I didn't see that. It's not typically recom...</td>\n",
       "      <td>t3_3574mw</td>\n",
       "      <td>t1_cr21vda</td>\n",
       "    </tr>\n",
       "    <tr>\n",
       "      <th>4</th>\n",
       "      <td>3574mw</td>\n",
       "      <td>t3_3574mw</td>\n",
       "      <td>2015-05-07 17:38:28</td>\n",
       "      <td>Essure this afternoon (x-post to childfree)</td>\n",
       "      <td>I'll be heading to the hospital in 3 hours to ...</td>\n",
       "      <td>truechildfree</td>\n",
       "      <td>cr31czo</td>\n",
       "      <td>truechildfree</td>\n",
       "      <td>2015-05-08 22:45:50</td>\n",
       "      <td>Yeeeeaaaah that's terrifying. Sounds like goin...</td>\n",
       "      <td>t3_3574mw</td>\n",
       "      <td>t1_cr2bxcr</td>\n",
       "    </tr>\n",
       "  </tbody>\n",
       "</table>\n",
       "</div>"
      ],
      "text/plain": [
       "  id_submission       name created_utc_submission  \\\n",
       "0        3574mw  t3_3574mw    2015-05-07 17:38:28   \n",
       "1        3574mw  t3_3574mw    2015-05-07 17:38:28   \n",
       "2        3574mw  t3_3574mw    2015-05-07 17:38:28   \n",
       "3        3574mw  t3_3574mw    2015-05-07 17:38:28   \n",
       "4        3574mw  t3_3574mw    2015-05-07 17:38:28   \n",
       "\n",
       "                                         title  \\\n",
       "0  Essure this afternoon (x-post to childfree)   \n",
       "1  Essure this afternoon (x-post to childfree)   \n",
       "2  Essure this afternoon (x-post to childfree)   \n",
       "3  Essure this afternoon (x-post to childfree)   \n",
       "4  Essure this afternoon (x-post to childfree)   \n",
       "\n",
       "                                            selftext subreddit_submission  \\\n",
       "0  I'll be heading to the hospital in 3 hours to ...        truechildfree   \n",
       "1  I'll be heading to the hospital in 3 hours to ...        truechildfree   \n",
       "2  I'll be heading to the hospital in 3 hours to ...        truechildfree   \n",
       "3  I'll be heading to the hospital in 3 hours to ...        truechildfree   \n",
       "4  I'll be heading to the hospital in 3 hours to ...        truechildfree   \n",
       "\n",
       "  id_comment subreddit_comment  created_utc_comment  \\\n",
       "0    cr1n0gz     truechildfree  2015-05-07 18:13:18   \n",
       "1    cr21ui2     truechildfree  2015-05-08 00:57:56   \n",
       "2    cr21vda     truechildfree  2015-05-08 00:58:40   \n",
       "3    cr2bxcr     truechildfree  2015-05-08 07:26:37   \n",
       "4    cr31czo     truechildfree  2015-05-08 22:45:50   \n",
       "\n",
       "                                                body    link_id   parent_id  \n",
       "0  You can do it! Just please make sure to take y...  t3_3574mw   t3_3574mw  \n",
       "1                       Awesome, I'm a bit jealous!   t3_3574mw   t3_3574mw  \n",
       "2  Curious, OP said they would be under for the p...  t3_3574mw  t1_cr1n0gz  \n",
       "3  Oh I didn't see that. It's not typically recom...  t3_3574mw  t1_cr21vda  \n",
       "4  Yeeeeaaaah that's terrifying. Sounds like goin...  t3_3574mw  t1_cr2bxcr  "
      ]
     },
     "execution_count": 3,
     "metadata": {},
     "output_type": "execute_result"
    }
   ],
   "source": [
    "all_files.head()"
   ]
  },
  {
   "cell_type": "code",
   "execution_count": 4,
   "metadata": {},
   "outputs": [
    {
     "data": {
      "text/plain": [
       "subreddit_submission\n",
       "hysterectomy     33\n",
       "truechildfree    54\n",
       "Name: id_submission, dtype: int64"
      ]
     },
     "execution_count": 4,
     "metadata": {},
     "output_type": "execute_result"
    }
   ],
   "source": [
    "# how many unique submission are there?\n",
    "all_files.groupby(['subreddit_submission'])['id_submission'].nunique()\n"
   ]
  },
  {
   "cell_type": "markdown",
   "metadata": {},
   "source": [
    "Is unique user ever a question? Does Reddit allow multiple entries for the same user?"
   ]
  },
  {
   "cell_type": "code",
   "execution_count": 5,
   "metadata": {},
   "outputs": [],
   "source": [
    "# Convert the timestamp column to datetime\n",
    "all_files['created_utc_comment'] = pd.to_datetime(all_files['created_utc_comment'])\n",
    "all_files['created_utc_submission'] = pd.to_datetime(all_files['created_utc_submission'])"
   ]
  },
  {
   "cell_type": "code",
   "execution_count": 6,
   "metadata": {},
   "outputs": [
    {
     "name": "stdout",
     "output_type": "stream",
     "text": [
      "Earliest comment: 2014-03-14 17:43:36\n",
      "Latest comment: 2022-11-22 17:47:34\n"
     ]
    }
   ],
   "source": [
    "print(\"Earliest comment:\", all_files['created_utc_comment'].min())\n",
    "\n",
    "print(\"Latest comment:\", all_files['created_utc_comment'].max())"
   ]
  },
  {
   "cell_type": "code",
   "execution_count": 7,
   "metadata": {},
   "outputs": [
    {
     "name": "stdout",
     "output_type": "stream",
     "text": [
      "\n",
      "Subreddit: truechildfree\n",
      "Earliest submission: 2014-03-14 14:54:48\n",
      "Latest submission: 2022-09-25 19:26:32\n",
      "\n",
      "Subreddit: nan\n",
      "Earliest submission: NaT\n",
      "Latest submission: NaT\n",
      "\n",
      "Subreddit: hysterectomy\n",
      "Earliest submission: 2019-01-17 14:21:32\n",
      "Latest submission: 2022-11-22 14:21:01\n"
     ]
    }
   ],
   "source": [
    "# Group by subreddit and show date ranges\n",
    "for subreddit in all_files['subreddit_submission'].unique():\n",
    "    subreddit_data = all_files[all_files['subreddit_submission'] == subreddit]\n",
    "    print(f\"\\nSubreddit: {subreddit}\")\n",
    "    print(\"Earliest submission:\", subreddit_data['created_utc_submission'].min())\n",
    "    print(\"Latest submission:\", subreddit_data['created_utc_submission'].max())"
   ]
  },
  {
   "cell_type": "markdown",
   "metadata": {},
   "source": [
    "plot this?"
   ]
  },
  {
   "cell_type": "markdown",
   "metadata": {},
   "source": [
    "How to handle NAs?"
   ]
  },
  {
   "cell_type": "code",
   "execution_count": 8,
   "metadata": {},
   "outputs": [
    {
     "name": "stdout",
     "output_type": "stream",
     "text": [
      "Average comment length: 469.47 characters\n",
      "\n",
      "Comment length statistics:\n",
      "count     415.000000\n",
      "mean      469.472289\n",
      "std       574.001754\n",
      "min         2.000000\n",
      "25%       143.500000\n",
      "50%       307.000000\n",
      "75%       577.500000\n",
      "max      5074.000000\n",
      "Name: body_length, dtype: float64\n"
     ]
    }
   ],
   "source": [
    "# average length of comment body\n",
    "# Calculate average length of comment body\n",
    "all_files['body_length'] = all_files['body'].str.len()\n",
    "average_length = all_files['body_length'].mean()\n",
    "print(f\"Average comment length: {average_length:.2f} characters\")\n",
    "\n",
    "# If you want to see the distribution\n",
    "print(\"\\nComment length statistics:\")\n",
    "print(all_files['body_length'].describe())"
   ]
  },
  {
   "cell_type": "code",
   "execution_count": 9,
   "metadata": {},
   "outputs": [
    {
     "data": {
      "text/plain": [
       "<Figure size 1000x600 with 0 Axes>"
      ]
     },
     "metadata": {},
     "output_type": "display_data"
    },
    {
     "data": {
      "image/png": "[encoded data removed]",
      "text/plain": [
       "<Figure size 640x480 with 1 Axes>"
      ]
     },
     "metadata": {},
     "output_type": "display_data"
    }
   ],
   "source": [
    "# Calculate comment length statistics by subreddit\n",
    "subreddit_stats = all_files.groupby('subreddit_submission').agg({\n",
    "    'body_length': ['count', 'mean', 'std', 'min', 'max']\n",
    "}).round(2)\n",
    "\n",
    "# a visual comparison\n",
    "plt.figure(figsize=(10, 6))\n",
    "all_files.boxplot(column='body_length', by='subreddit_submission', rot=45)\n",
    "plt.title('Comment Length Distribution by Subreddit')\n",
    "plt.ylabel('Comment Length (characters)')\n",
    "plt.suptitle('')  # removes the automatic suptitle\n",
    "plt.tight_layout()\n",
    "plt.show()"
   ]
  },
  {
   "cell_type": "markdown",
   "metadata": {},
   "source": [
    "total number of subreddits?"
   ]
  },
  {
   "cell_type": "code",
   "execution_count": null,
   "metadata": {},
   "outputs": [],
   "source": []
  },
  {
   "cell_type": "markdown",
   "metadata": {},
   "source": [
    "unique number of users?"
   ]
  },
  {
   "cell_type": "code",
   "execution_count": null,
   "metadata": {},
   "outputs": [],
   "source": []
  },
  {
   "cell_type": "markdown",
   "metadata": {},
   "source": [
    "only start with original post (submissions)? what is the most efficient way to get this subset?"
   ]
  },
  {
   "cell_type": "code",
   "execution_count": null,
   "metadata": {},
   "outputs": [],
   "source": []
  },
  {
   "cell_type": "markdown",
   "metadata": {},
   "source": [
    "text data preprocessing"
   ]
  },
  {
   "cell_type": "code",
   "execution_count": null,
   "metadata": {},
   "outputs": [],
   "source": [
    "# define a function to clean the text data"
   ]
  },
  {
   "cell_type": "markdown",
   "metadata": {},
   "source": [
    "text data representation: consider word frequency, TFIDF, embeddings"
   ]
  },
  {
   "cell_type": "markdown",
   "metadata": {},
   "source": []
  }
 ],
 "metadata": {
  "kernelspec": {
   "display_name": "testenv",
   "language": "python",
   "name": "python3"
  },
  "language_info": {
   "codemirror_mode": {
    "name": "ipython",
    "version": 3
   },
   "file_extension": ".py",
   "mimetype": "text/x-python",
   "name": "python",
   "nbconvert_exporter": "python",
   "pygments_lexer": "ipython3",
   "version": "3.9.21"
  }
 },
 "nbformat": 4,
 "nbformat_minor": 2
}
